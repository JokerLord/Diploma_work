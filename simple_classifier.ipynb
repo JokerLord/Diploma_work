{
 "cells": [
  {
   "cell_type": "markdown",
   "metadata": {},
   "source": [
    "Импорт необходимых зависимостей"
   ]
  },
  {
   "cell_type": "code",
   "execution_count": 1,
   "metadata": {},
   "outputs": [],
   "source": [
    "import numpy as np\n",
    "import os\n",
    "import matplotlib.pyplot as plt\n",
    "\n",
    "from tensorflow.keras import models, Input\n",
    "from tensorflow.keras.layers import Conv2D, BatchNormalization, MaxPooling2D, GlobalAveragePooling2D, Flatten, Dense\n",
    "from tensorflow.keras.optimizers import Adam\n",
    "from tensorflow.keras.losses import CategoricalCrossentropy\n",
    "from pathlib import Path\n",
    "from tqdm.notebook import tqdm"
   ]
  },
  {
   "cell_type": "markdown",
   "metadata": {},
   "source": [
    "Описание необходимых констант"
   ]
  },
  {
   "cell_type": "code",
   "execution_count": 2,
   "metadata": {},
   "outputs": [],
   "source": [
    "FOLDER = 'D:\\\\Learning\\\\MSU\\\\th\\\\diploma_files'"
   ]
  },
  {
   "cell_type": "markdown",
   "metadata": {},
   "source": [
    "### Класс Dataset\n",
    "\n",
    "Предназначен для работы с наборами данных, хранящимися на диске, обеспечивает чтение изображений и соответствующих меток, а также формирование пакетов (батчей)."
   ]
  },
  {
   "cell_type": "code",
   "execution_count": 3,
   "metadata": {},
   "outputs": [],
   "source": [
    "class Dataset:\n",
    "\n",
    "    def __init__(self, path: str):\n",
    "        self.is_loaded = False\n",
    "        p = Path(FOLDER) / Path(path)\n",
    "        if p.exists():\n",
    "            # print(f'Loading dataset from {path}')\n",
    "            np_obj = np.load(str(p))\n",
    "            self.images = np_obj['data']\n",
    "            self.labels = np_obj['labels']\n",
    "            self.gt_vectors = np_obj['gt_vectors']\n",
    "            self.n_files = self.images.shape[0]\n",
    "            self.is_loaded = True\n",
    "            # print(f'Done. Dataset consists of {self.n_files} images.')\n",
    "\n",
    "    def image(self, i):\n",
    "        # read i-th image in dataset and return it as numpy array\n",
    "        if self.is_loaded:\n",
    "            return self.images[i, :, :, :]\n",
    "\n",
    "    def images_seq(self, n=None):\n",
    "        # sequential access to images inside dataset\n",
    "        for i in range(self.n_files if not n else n):\n",
    "            yield self.image(i)\n",
    "\n",
    "    def batches_seq(self, batch_size=32):\n",
    "        num = self.n_files // batch_size\n",
    "        for i in range(num):\n",
    "            yield self.images[i*batch_size: (i+1) * batch_size, :, :, :]\n",
    "        if self.n_files % batch_size:\n",
    "            yield self.images[num*batch_size:, :, :, :]\n",
    "\n",
    "    def random_image_with_label_and_gt_vector(self):\n",
    "        # get random image with label from dataset\n",
    "        i = np.random.randint(self.n_files)\n",
    "        return self.image(i), self.labels[i], self.gt_vectors[i]\n",
    "\n",
    "    def random_batch_with_gt_vectors(self, n):\n",
    "        # create random batch of images with labels (is needed for training)\n",
    "        indices = np.random.choice(self.n_files, n)\n",
    "        imgs = []\n",
    "        for i in indices:\n",
    "            img = self.image(i)\n",
    "            imgs.append(self.image(i))\n",
    "        logits = np.array([self.gt_vectors[i] for i in indices])\n",
    "        return np.stack(imgs), logits\n",
    "\n",
    "    def image_with_label(self, i: int):\n",
    "        # return i-th image with label from dataset\n",
    "        return self.image(i), self.labels[i]"
   ]
  },
  {
   "cell_type": "markdown",
   "metadata": {},
   "source": [
    "### Класс Metrics\n",
    "\n",
    "Реализует метрики точности, используемые для оценивания модели:\n",
    "1. точность"
   ]
  },
  {
   "cell_type": "code",
   "execution_count": 4,
   "metadata": {},
   "outputs": [],
   "source": [
    "class Metrics:\n",
    "\n",
    "    @staticmethod\n",
    "    def accuracy(gt, pred):\n",
    "        assert len(gt) == len(pred), 'gt and prediction should be of equal length'\n",
    "        return sum(int(i[0] == i[1]) for i in zip(gt, pred)) / len(gt)"
   ]
  },
  {
   "cell_type": "markdown",
   "metadata": {},
   "source": [
    "### Класс Model\n",
    "\n",
    "Класс, хранящий в себе всю информацию о модели."
   ]
  },
  {
   "cell_type": "code",
   "execution_count": 5,
   "metadata": {},
   "outputs": [],
   "source": [
    "class MySimpleClassifier:\n",
    "\n",
    "    def __init__(self, input_shape, n_output_channels, n_filters):\n",
    "        self.model = models.Sequential()\n",
    "        self.model.add(Input(shape=input_shape))\n",
    "        self.model.add(Conv2D(n_filters, 3, activation='relu', padding='same'))\n",
    "        self.model.add(BatchNormalization())\n",
    "        self.model.add(Conv2D(n_filters, 3, activation='relu', padding='same'))\n",
    "        self.model.add(BatchNormalization())\n",
    "        self.model.add(MaxPooling2D(pool_size=(2, 2)))\n",
    "\n",
    "        self.model.add(Conv2D(n_filters * 2, 3, activation='relu', padding='same'))\n",
    "        self.model.add(BatchNormalization())\n",
    "        self.model.add(Conv2D(n_filters * 2, 3, activation='relu', padding='same'))\n",
    "        self.model.add(BatchNormalization())\n",
    "        self.model.add(MaxPooling2D(pool_size=(2, 2)))\n",
    "\n",
    "        self.model.add(Conv2D(n_filters * 4, 3, activation='relu', padding='same'))\n",
    "        self.model.add(BatchNormalization())\n",
    "        self.model.add(Conv2D(n_filters * 4, 3, activation='relu', padding='same'))\n",
    "        self.model.add(BatchNormalization())\n",
    "        self.model.add(GlobalAveragePooling2D())\n",
    "\n",
    "        self.model.add(Flatten())\n",
    "        self.model.add(Dense(n_output_channels, activation='softmax'))\n",
    "\n",
    "    def save(self, name: str):\n",
    "        p = Path(name) / Path('my_checkpoint')\n",
    "        self.model.save_weights(str(p))\n",
    "\n",
    "    def load(self, name: str):\n",
    "        p = Path(name) / Path('my_checkpoint')\n",
    "        self.model.load_weights(str(p))\n",
    "\n",
    "    def train(self, dataset: Dataset, val_images, val_gt_vectors):\n",
    "        print(f'training started')\n",
    "        self.model.compile(optimizer=Adam(learning_rate=0.001), loss=CategoricalCrossentropy(), metrics=['accuracy'])\n",
    "        self.model.fit(dataset.images,\n",
    "                       dataset.gt_vectors,\n",
    "                       epochs=7,\n",
    "                       validation_data=(val_images, val_gt_vectors))\n",
    "        print(f'training done')\n",
    "\n",
    "    def test_on_dataset(self, dataset: Dataset):\n",
    "        predictions = []\n",
    "        for batch in dataset.batches_seq():\n",
    "            predictions.extend(self.test_on_batch(batch))\n",
    "        return predictions\n",
    "\n",
    "    def test_on_batch(self, batch: np.ndarray):\n",
    "        prediction = np.argmax(self.model.predict(batch), axis=1)\n",
    "        return prediction\n"
   ]
  },
  {
   "cell_type": "code",
   "execution_count": 6,
   "metadata": {},
   "outputs": [],
   "source": [
    "d_train = Dataset('npz_train/5.0.npz')\n",
    "val_images, val_gt_vectors = d_train.random_batch_with_gt_vectors(int(d_train.n_files * 0.2))"
   ]
  },
  {
   "cell_type": "code",
   "execution_count": 6,
   "metadata": {},
   "outputs": [],
   "source": [
    "model = MySimpleClassifier((224, 224, 3), 20, 4)"
   ]
  },
  {
   "cell_type": "code",
   "execution_count": 7,
   "metadata": {},
   "outputs": [
    {
     "name": "stdout",
     "output_type": "stream",
     "text": [
      "Model: \"sequential\"\n",
      "_________________________________________________________________\n",
      "Layer (type)                 Output Shape              Param #   \n",
      "=================================================================\n",
      "conv2d (Conv2D)              (None, 224, 224, 4)       112       \n",
      "_________________________________________________________________\n",
      "batch_normalization (BatchNo (None, 224, 224, 4)       16        \n",
      "_________________________________________________________________\n",
      "conv2d_1 (Conv2D)            (None, 224, 224, 4)       148       \n",
      "_________________________________________________________________\n",
      "batch_normalization_1 (Batch (None, 224, 224, 4)       16        \n",
      "_________________________________________________________________\n",
      "max_pooling2d (MaxPooling2D) (None, 112, 112, 4)       0         \n",
      "_________________________________________________________________\n",
      "conv2d_2 (Conv2D)            (None, 112, 112, 8)       296       \n",
      "_________________________________________________________________\n",
      "batch_normalization_2 (Batch (None, 112, 112, 8)       32        \n",
      "_________________________________________________________________\n",
      "conv2d_3 (Conv2D)            (None, 112, 112, 8)       584       \n",
      "_________________________________________________________________\n",
      "batch_normalization_3 (Batch (None, 112, 112, 8)       32        \n",
      "_________________________________________________________________\n",
      "max_pooling2d_1 (MaxPooling2 (None, 56, 56, 8)         0         \n",
      "_________________________________________________________________\n",
      "conv2d_4 (Conv2D)            (None, 56, 56, 16)        1168      \n",
      "_________________________________________________________________\n",
      "batch_normalization_4 (Batch (None, 56, 56, 16)        64        \n",
      "_________________________________________________________________\n",
      "conv2d_5 (Conv2D)            (None, 56, 56, 16)        2320      \n",
      "_________________________________________________________________\n",
      "batch_normalization_5 (Batch (None, 56, 56, 16)        64        \n",
      "_________________________________________________________________\n",
      "global_average_pooling2d (Gl (None, 16)                0         \n",
      "_________________________________________________________________\n",
      "flatten (Flatten)            (None, 16)                0         \n",
      "_________________________________________________________________\n",
      "dense (Dense)                (None, 20)                340       \n",
      "=================================================================\n",
      "Total params: 5,192\n",
      "Trainable params: 5,080\n",
      "Non-trainable params: 112\n",
      "_________________________________________________________________\n"
     ]
    }
   ],
   "source": [
    "model.model.summary()"
   ]
  },
  {
   "cell_type": "code",
   "execution_count": 17,
   "metadata": {},
   "outputs": [
    {
     "name": "stdout",
     "output_type": "stream",
     "text": [
      "training started\n",
      "Train on 4000 samples, validate on 800 samples\n",
      "Epoch 1/10\n",
      "4000/4000 [==============================] - 28s 7ms/sample - loss: 1.1575 - accuracy: 0.7195 - val_loss: 1.8028 - val_accuracy: 0.2537\n",
      "Epoch 2/10\n",
      "4000/4000 [==============================] - 22s 6ms/sample - loss: 0.2632 - accuracy: 0.9735 - val_loss: 0.3141 - val_accuracy: 0.9112\n",
      "Epoch 3/10\n",
      "4000/4000 [==============================] - 22s 6ms/sample - loss: 0.0826 - accuracy: 0.9987 - val_loss: 0.0665 - val_accuracy: 1.0000\n",
      "Epoch 4/10\n",
      "4000/4000 [==============================] - 22s 6ms/sample - loss: 0.0361 - accuracy: 1.0000 - val_loss: 0.0141 - val_accuracy: 1.0000\n",
      "Epoch 5/10\n",
      "4000/4000 [==============================] - 22s 6ms/sample - loss: 0.0234 - accuracy: 1.0000 - val_loss: 0.0066 - val_accuracy: 1.0000\n",
      "Epoch 6/10\n",
      "4000/4000 [==============================] - 22s 6ms/sample - loss: 0.0178 - accuracy: 0.9998 - val_loss: 0.0040 - val_accuracy: 1.0000\n",
      "Epoch 7/10\n",
      "4000/4000 [==============================] - 22s 6ms/sample - loss: 0.0100 - accuracy: 1.0000 - val_loss: 0.0031 - val_accuracy: 1.0000\n",
      "Epoch 8/10\n",
      "4000/4000 [==============================] - 22s 6ms/sample - loss: 0.0252 - accuracy: 0.9952 - val_loss: 0.3243 - val_accuracy: 0.8913\n",
      "Epoch 9/10\n",
      "4000/4000 [==============================] - 22s 6ms/sample - loss: 0.0068 - accuracy: 1.0000 - val_loss: 0.0016 - val_accuracy: 1.0000\n",
      "Epoch 10/10\n",
      "4000/4000 [==============================] - 22s 6ms/sample - loss: 0.0052 - accuracy: 1.0000 - val_loss: 9.8730e-04 - val_accuracy: 1.0000\n",
      "training done\n"
     ]
    }
   ],
   "source": [
    "model.train(d_train, val_images, val_gt_vectors)\n",
    "model.save('saved_models/model_trained_on_scale_5.0')"
   ]
  },
  {
   "cell_type": "code",
   "execution_count": 8,
   "metadata": {},
   "outputs": [
    {
     "data": {
      "application/vnd.jupyter.widget-view+json": {
       "model_id": "fd7ebee886a14e9cb7cc53f9a8b74920",
       "version_major": 2,
       "version_minor": 0
      },
      "text/plain": [
       "  0%|          | 0/95 [00:00<?, ?it/s]"
      ]
     },
     "metadata": {},
     "output_type": "display_data"
    }
   ],
   "source": [
    "npz_folder = 'npz_tests'\n",
    "\n",
    "accuraces = []\n",
    "model = MySimpleClassifier((224, 224, 3), 20, 8)\n",
    "model.load('saved_models/model_trained_on_scale_5.0')\n",
    "\n",
    "for root, dirs, files in os.walk(Path(FOLDER) / Path(npz_folder)):\n",
    "    pbar = tqdm(total=len(files))\n",
    "    for filename in files:\n",
    "        dtest = Dataset(npz_folder + '\\\\' + filename)\n",
    "        pred = model.test_on_dataset(dtest)\n",
    "        accuraces.append(Metrics.accuracy(dtest.labels, pred))\n",
    "        pbar.update(1)"
   ]
  },
  {
   "cell_type": "code",
   "execution_count": 9,
   "metadata": {},
   "outputs": [
    {
     "data": {
      "image/png": "[encoded data removed]",
      "text/plain": [
       "<Figure size 432x288 with 1 Axes>"
      ]
     },
     "metadata": {
      "needs_background": "light"
     },
     "output_type": "display_data"
    }
   ],
   "source": [
    "xpoints = np.arange(0.5, 10.0, 0.1)\n",
    "ypoints = np.array(accuraces)\n",
    "# print(xpoints.shape, ypoints.shape)\n",
    "plt.plot(xpoints, ypoints)\n",
    "plt.xlabel('scale')\n",
    "plt.ylabel('accuracy')\n",
    "plt.show()"
   ]
  },
  {
   "cell_type": "code",
   "execution_count": 20,
   "metadata": {},
   "outputs": [
    {
     "name": "stdout",
     "output_type": "stream",
     "text": [
      "Model: \"sequential_2\"\n",
      "_________________________________________________________________\n",
      "Layer (type)                 Output Shape              Param #   \n",
      "=================================================================\n",
      "conv2d_12 (Conv2D)           (None, 224, 224, 4)       112       \n",
      "_________________________________________________________________\n",
      "batch_normalization_12 (Batc (None, 224, 224, 4)       16        \n",
      "_________________________________________________________________\n",
      "conv2d_13 (Conv2D)           (None, 224, 224, 4)       148       \n",
      "_________________________________________________________________\n",
      "batch_normalization_13 (Batc (None, 224, 224, 4)       16        \n",
      "_________________________________________________________________\n",
      "max_pooling2d_4 (MaxPooling2 (None, 112, 112, 4)       0         \n",
      "_________________________________________________________________\n",
      "conv2d_14 (Conv2D)           (None, 112, 112, 8)       296       \n",
      "_________________________________________________________________\n",
      "batch_normalization_14 (Batc (None, 112, 112, 8)       32        \n",
      "_________________________________________________________________\n",
      "conv2d_15 (Conv2D)           (None, 112, 112, 8)       584       \n",
      "_________________________________________________________________\n",
      "batch_normalization_15 (Batc (None, 112, 112, 8)       32        \n",
      "_________________________________________________________________\n",
      "max_pooling2d_5 (MaxPooling2 (None, 56, 56, 8)         0         \n",
      "_________________________________________________________________\n",
      "conv2d_16 (Conv2D)           (None, 56, 56, 16)        1168      \n",
      "_________________________________________________________________\n",
      "batch_normalization_16 (Batc (None, 56, 56, 16)        64        \n",
      "_________________________________________________________________\n",
      "conv2d_17 (Conv2D)           (None, 56, 56, 16)        2320      \n",
      "_________________________________________________________________\n",
      "batch_normalization_17 (Batc (None, 56, 56, 16)        64        \n",
      "_________________________________________________________________\n",
      "global_average_pooling2d_2 ( (None, 16)                0         \n",
      "_________________________________________________________________\n",
      "flatten_2 (Flatten)          (None, 16)                0         \n",
      "_________________________________________________________________\n",
      "dense_2 (Dense)              (None, 20)                340       \n",
      "=================================================================\n",
      "Total params: 5,192\n",
      "Trainable params: 5,080\n",
      "Non-trainable params: 112\n",
      "_________________________________________________________________\n"
     ]
    }
   ],
   "source": [
    "light_model = MySimpleClassifier((224, 224, 3), 20, 4)\n",
    "light_model.model.summary()"
   ]
  },
  {
   "cell_type": "code",
   "execution_count": 23,
   "metadata": {},
   "outputs": [
    {
     "name": "stdout",
     "output_type": "stream",
     "text": [
      "training started\n",
      "Train on 4000 samples, validate on 800 samples\n",
      "Epoch 1/10\n",
      "4000/4000 [==============================] - 16s 4ms/sample - loss: 0.0061 - accuracy: 0.9990 - val_loss: 2.4722e-04 - val_accuracy: 1.0000\n",
      "Epoch 2/10\n",
      "4000/4000 [==============================] - 14s 3ms/sample - loss: 0.0254 - accuracy: 0.9915 - val_loss: 0.0122 - val_accuracy: 1.0000\n",
      "Epoch 3/10\n",
      "4000/4000 [==============================] - 14s 3ms/sample - loss: 0.0038 - accuracy: 1.0000 - val_loss: 2.9009e-04 - val_accuracy: 1.0000\n",
      "Epoch 4/10\n",
      "4000/4000 [==============================] - 14s 3ms/sample - loss: 0.0029 - accuracy: 1.0000 - val_loss: 1.6376e-04 - val_accuracy: 1.0000\n",
      "Epoch 5/10\n",
      "4000/4000 [==============================] - 14s 3ms/sample - loss: 0.0022 - accuracy: 1.0000 - val_loss: 0.0012 - val_accuracy: 1.0000\n",
      "Epoch 6/10\n",
      "4000/4000 [==============================] - 15s 4ms/sample - loss: 0.0015 - accuracy: 1.0000 - val_loss: 1.3474e-04 - val_accuracy: 1.0000\n",
      "Epoch 7/10\n",
      "4000/4000 [==============================] - 15s 4ms/sample - loss: 0.0012 - accuracy: 1.0000 - val_loss: 1.4111e-04 - val_accuracy: 1.0000\n",
      "Epoch 8/10\n",
      "4000/4000 [==============================] - 14s 4ms/sample - loss: 0.0033 - accuracy: 0.9998 - val_loss: 0.0539 - val_accuracy: 0.9600\n",
      "Epoch 9/10\n",
      "4000/4000 [==============================] - 14s 4ms/sample - loss: 0.0012 - accuracy: 1.0000 - val_loss: 1.6817e-04 - val_accuracy: 1.0000\n",
      "Epoch 10/10\n",
      "4000/4000 [==============================] - 14s 4ms/sample - loss: 6.5316e-04 - accuracy: 1.0000 - val_loss: 8.2747e-05 - val_accuracy: 1.0000\n",
      "training done\n"
     ]
    }
   ],
   "source": [
    "light_model.train(d_train, val_images, val_gt_vectors)\n",
    "light_model.save('saved_models/light_model_trained_on_scale_5.0')"
   ]
  },
  {
   "cell_type": "code",
   "execution_count": 18,
   "metadata": {},
   "outputs": [
    {
     "data": {
      "application/vnd.jupyter.widget-view+json": {
       "model_id": "dd9060f4ee2141f5864e1c00aea0fe42",
       "version_major": 2,
       "version_minor": 0
      },
      "text/plain": [
       "  0%|          | 0/95 [00:00<?, ?it/s]"
      ]
     },
     "metadata": {},
     "output_type": "display_data"
    },
    {
     "name": "stdout",
     "output_type": "stream",
     "text": [
      "WARNING:tensorflow:Unresolved object in checkpoint: (root).optimizer\n",
      "WARNING:tensorflow:Unresolved object in checkpoint: (root).optimizer.iter\n",
      "WARNING:tensorflow:Unresolved object in checkpoint: (root).optimizer.beta_1\n",
      "WARNING:tensorflow:Unresolved object in checkpoint: (root).optimizer.beta_2\n",
      "WARNING:tensorflow:Unresolved object in checkpoint: (root).optimizer.decay\n",
      "WARNING:tensorflow:Unresolved object in checkpoint: (root).optimizer.learning_rate\n",
      "WARNING:tensorflow:Unresolved object in checkpoint: (root).optimizer's state 'm' for (root).layer_with_weights-0.kernel\n",
      "WARNING:tensorflow:Unresolved object in checkpoint: (root).optimizer's state 'm' for (root).layer_with_weights-0.bias\n",
      "WARNING:tensorflow:Unresolved object in checkpoint: (root).optimizer's state 'm' for (root).layer_with_weights-1.gamma\n",
      "WARNING:tensorflow:Unresolved object in checkpoint: (root).optimizer's state 'm' for (root).layer_with_weights-1.beta\n",
      "WARNING:tensorflow:Unresolved object in checkpoint: (root).optimizer's state 'm' for (root).layer_with_weights-2.kernel\n",
      "WARNING:tensorflow:Unresolved object in checkpoint: (root).optimizer's state 'm' for (root).layer_with_weights-2.bias\n",
      "WARNING:tensorflow:Unresolved object in checkpoint: (root).optimizer's state 'm' for (root).layer_with_weights-3.gamma\n",
      "WARNING:tensorflow:Unresolved object in checkpoint: (root).optimizer's state 'm' for (root).layer_with_weights-3.beta\n",
      "WARNING:tensorflow:Unresolved object in checkpoint: (root).optimizer's state 'm' for (root).layer_with_weights-4.kernel\n",
      "WARNING:tensorflow:Unresolved object in checkpoint: (root).optimizer's state 'm' for (root).layer_with_weights-4.bias\n",
      "WARNING:tensorflow:Unresolved object in checkpoint: (root).optimizer's state 'm' for (root).layer_with_weights-5.gamma\n",
      "WARNING:tensorflow:Unresolved object in checkpoint: (root).optimizer's state 'm' for (root).layer_with_weights-5.beta\n",
      "WARNING:tensorflow:Unresolved object in checkpoint: (root).optimizer's state 'm' for (root).layer_with_weights-6.kernel\n",
      "WARNING:tensorflow:Unresolved object in checkpoint: (root).optimizer's state 'm' for (root).layer_with_weights-6.bias\n",
      "WARNING:tensorflow:Unresolved object in checkpoint: (root).optimizer's state 'm' for (root).layer_with_weights-7.gamma\n",
      "WARNING:tensorflow:Unresolved object in checkpoint: (root).optimizer's state 'm' for (root).layer_with_weights-7.beta\n",
      "WARNING:tensorflow:Unresolved object in checkpoint: (root).optimizer's state 'm' for (root).layer_with_weights-8.kernel\n",
      "WARNING:tensorflow:Unresolved object in checkpoint: (root).optimizer's state 'm' for (root).layer_with_weights-8.bias\n",
      "WARNING:tensorflow:Unresolved object in checkpoint: (root).optimizer's state 'm' for (root).layer_with_weights-9.gamma\n",
      "WARNING:tensorflow:Unresolved object in checkpoint: (root).optimizer's state 'm' for (root).layer_with_weights-9.beta\n",
      "WARNING:tensorflow:Unresolved object in checkpoint: (root).optimizer's state 'm' for (root).layer_with_weights-10.kernel\n",
      "WARNING:tensorflow:Unresolved object in checkpoint: (root).optimizer's state 'm' for (root).layer_with_weights-10.bias\n",
      "WARNING:tensorflow:Unresolved object in checkpoint: (root).optimizer's state 'm' for (root).layer_with_weights-11.gamma\n",
      "WARNING:tensorflow:Unresolved object in checkpoint: (root).optimizer's state 'm' for (root).layer_with_weights-11.beta\n",
      "WARNING:tensorflow:Unresolved object in checkpoint: (root).optimizer's state 'm' for (root).layer_with_weights-12.kernel\n",
      "WARNING:tensorflow:Unresolved object in checkpoint: (root).optimizer's state 'm' for (root).layer_with_weights-12.bias\n",
      "WARNING:tensorflow:Unresolved object in checkpoint: (root).optimizer's state 'v' for (root).layer_with_weights-0.kernel\n",
      "WARNING:tensorflow:Unresolved object in checkpoint: (root).optimizer's state 'v' for (root).layer_with_weights-0.bias\n",
      "WARNING:tensorflow:Unresolved object in checkpoint: (root).optimizer's state 'v' for (root).layer_with_weights-1.gamma\n",
      "WARNING:tensorflow:Unresolved object in checkpoint: (root).optimizer's state 'v' for (root).layer_with_weights-1.beta\n",
      "WARNING:tensorflow:Unresolved object in checkpoint: (root).optimizer's state 'v' for (root).layer_with_weights-2.kernel\n",
      "WARNING:tensorflow:Unresolved object in checkpoint: (root).optimizer's state 'v' for (root).layer_with_weights-2.bias\n",
      "WARNING:tensorflow:Unresolved object in checkpoint: (root).optimizer's state 'v' for (root).layer_with_weights-3.gamma\n",
      "WARNING:tensorflow:Unresolved object in checkpoint: (root).optimizer's state 'v' for (root).layer_with_weights-3.beta\n",
      "WARNING:tensorflow:Unresolved object in checkpoint: (root).optimizer's state 'v' for (root).layer_with_weights-4.kernel\n",
      "WARNING:tensorflow:Unresolved object in checkpoint: (root).optimizer's state 'v' for (root).layer_with_weights-4.bias\n",
      "WARNING:tensorflow:Unresolved object in checkpoint: (root).optimizer's state 'v' for (root).layer_with_weights-5.gamma\n",
      "WARNING:tensorflow:Unresolved object in checkpoint: (root).optimizer's state 'v' for (root).layer_with_weights-5.beta\n",
      "WARNING:tensorflow:Unresolved object in checkpoint: (root).optimizer's state 'v' for (root).layer_with_weights-6.kernel\n",
      "WARNING:tensorflow:Unresolved object in checkpoint: (root).optimizer's state 'v' for (root).layer_with_weights-6.bias\n",
      "WARNING:tensorflow:Unresolved object in checkpoint: (root).optimizer's state 'v' for (root).layer_with_weights-7.gamma\n",
      "WARNING:tensorflow:Unresolved object in checkpoint: (root).optimizer's state 'v' for (root).layer_with_weights-7.beta\n",
      "WARNING:tensorflow:Unresolved object in checkpoint: (root).optimizer's state 'v' for (root).layer_with_weights-8.kernel\n",
      "WARNING:tensorflow:Unresolved object in checkpoint: (root).optimizer's state 'v' for (root).layer_with_weights-8.bias\n",
      "WARNING:tensorflow:Unresolved object in checkpoint: (root).optimizer's state 'v' for (root).layer_with_weights-9.gamma\n",
      "WARNING:tensorflow:Unresolved object in checkpoint: (root).optimizer's state 'v' for (root).layer_with_weights-9.beta\n",
      "WARNING:tensorflow:Unresolved object in checkpoint: (root).optimizer's state 'v' for (root).layer_with_weights-10.kernel\n",
      "WARNING:tensorflow:Unresolved object in checkpoint: (root).optimizer's state 'v' for (root).layer_with_weights-10.bias\n",
      "WARNING:tensorflow:Unresolved object in checkpoint: (root).optimizer's state 'v' for (root).layer_with_weights-11.gamma\n",
      "WARNING:tensorflow:Unresolved object in checkpoint: (root).optimizer's state 'v' for (root).layer_with_weights-11.beta\n",
      "WARNING:tensorflow:Unresolved object in checkpoint: (root).optimizer's state 'v' for (root).layer_with_weights-12.kernel\n",
      "WARNING:tensorflow:Unresolved object in checkpoint: (root).optimizer's state 'v' for (root).layer_with_weights-12.bias\n",
      "WARNING:tensorflow:A checkpoint was restored (e.g. tf.train.Checkpoint.restore or tf.keras.Model.load_weights) but not all checkpointed values were used. See above for specific issues. Use expect_partial() on the load status object, e.g. tf.train.Checkpoint.restore(...).expect_partial(), to silence these warnings, or use assert_consumed() to make the check explicit. See https://www.tensorflow.org/guide/checkpoint#loading_mechanics for details.\n"
     ]
    }
   ],
   "source": [
    "npz_folder = 'npz_tests'\n",
    "\n",
    "accuraces = []\n",
    "loaded_light_model = MySimpleClassifier((224, 224, 3), 20, 4)\n",
    "loaded_light_model.load('saved_models/light_model_trained_on_scale_5.0')\n",
    "\n",
    "for root, dirs, files in os.walk(Path(FOLDER) / Path(npz_folder)):\n",
    "    pbar = tqdm(total=len(files))\n",
    "    for filename in files:\n",
    "        dtest = Dataset(npz_folder + '\\\\' + filename)\n",
    "        pred = loaded_light_model.test_on_dataset(dtest)\n",
    "        accuraces.append(Metrics.accuracy(dtest.labels, pred))\n",
    "        pbar.update(1)"
   ]
  },
  {
   "cell_type": "code",
   "execution_count": 19,
   "metadata": {},
   "outputs": [],
   "source": [
    "# def count_accuraces(dataset_path: Path, num: int):\n",
    "#     dtest = Dataset(dataset_path)\n",
    "#     pred = loaded_light_model.test_on_dataset(dtest)\n",
    "#     accuraces[num] = Metrics.accuracy(dtest.labels, pred)\n",
    "\n",
    "# def do_job(tasks_to_do):\n",
    "#     while True:\n",
    "#         try:\n",
    "#             task = tasks_to_do.get_nowait()\n",
    "#             count_accuraces(*task)\n",
    "#         except queue.Empty:\n",
    "#             break\n",
    "#         else:\n",
    "#             print(f'done with {task[0]}', flush=True)\n",
    "#     return True\n",
    "\n",
    "# def count_accuraces_parallel():\n",
    "#     for root, dirs, files in os.walk(FOLDER):\n",
    "#         input_params = [(Path(FOLDER + '\\\\' +  files[i]), i) for i in range(len(files))]\n",
    "\n",
    "#         number_of_processes = cpu_count()\n",
    "#         tasks_to_do = Queue()\n",
    "#         processes = []\n",
    "\n",
    "#         for i in input_params:\n",
    "#             tasks_to_do.put(i)\n",
    "\n",
    "#         for _ in range(number_of_processes):\n",
    "#             t = threading.Thread(target=do_job, args=(tasks_to_do, ))\n",
    "#             processes.append(t)\n",
    "#             t.start()\n",
    "        \n",
    "#         for t in processes:\n",
    "#             t.join()\n",
    "\n",
    "# if __name__ == '__main__':\n",
    "#     count_accuraces_parallel()"
   ]
  },
  {
   "cell_type": "code",
   "execution_count": 20,
   "metadata": {},
   "outputs": [
    {
     "data": {
      "image/png": "[encoded data removed]",
      "text/plain": [
       "<Figure size 432x288 with 1 Axes>"
      ]
     },
     "metadata": {
      "needs_background": "light"
     },
     "output_type": "display_data"
    }
   ],
   "source": [
    "xpoints = np.arange(0.5, 10.0, 0.1)\n",
    "ypoints = np.array(accuraces)\n",
    "# print(xpoints.shape, ypoints.shape)\n",
    "plt.plot(xpoints, ypoints)\n",
    "plt.xlabel('scale')\n",
    "plt.ylabel('accuracy')\n",
    "plt.show()"
   ]
  },
  {
   "cell_type": "code",
   "execution_count": 6,
   "metadata": {},
   "outputs": [],
   "source": [
    "model_noise50 = MySimpleClassifier((224, 224, 3), 20, 8)\n",
    "d_train_noise50 = Dataset('npz_train_noise50/5.0.npz')\n",
    "val_images, val_gt_vectors = d_train_noise50.random_batch_with_gt_vectors(int(d_train_noise50.n_files * 0.2))"
   ]
  },
  {
   "cell_type": "code",
   "execution_count": 7,
   "metadata": {},
   "outputs": [
    {
     "name": "stdout",
     "output_type": "stream",
     "text": [
      "training started\n",
      "Train on 4000 samples, validate on 800 samples\n",
      "Epoch 1/7\n",
      "4000/4000 [==============================] - 31s 8ms/sample - loss: 1.1037 - accuracy: 0.7368 - val_loss: 1.2334 - val_accuracy: 0.6562\n",
      "Epoch 2/7\n",
      "4000/4000 [==============================] - 24s 6ms/sample - loss: 0.2544 - accuracy: 0.9790 - val_loss: 0.2090 - val_accuracy: 0.9600\n",
      "Epoch 3/7\n",
      "4000/4000 [==============================] - 25s 6ms/sample - loss: 0.0791 - accuracy: 0.9987 - val_loss: 0.0258 - val_accuracy: 1.0000\n",
      "Epoch 4/7\n",
      "4000/4000 [==============================] - 26s 7ms/sample - loss: 0.0389 - accuracy: 0.9998 - val_loss: 0.0326 - val_accuracy: 1.0000\n",
      "Epoch 5/7\n",
      "4000/4000 [==============================] - 24s 6ms/sample - loss: 0.0254 - accuracy: 0.9995 - val_loss: 0.0058 - val_accuracy: 1.0000\n",
      "Epoch 6/7\n",
      "4000/4000 [==============================] - 24s 6ms/sample - loss: 0.0165 - accuracy: 0.9998 - val_loss: 0.0043 - val_accuracy: 1.0000\n",
      "Epoch 7/7\n",
      "4000/4000 [==============================] - 24s 6ms/sample - loss: 0.0122 - accuracy: 1.0000 - val_loss: 0.0027 - val_accuracy: 1.0000\n",
      "training done\n"
     ]
    }
   ],
   "source": [
    "model_noise50.train(d_train_noise50, val_images, val_gt_vectors)\n",
    "model_noise50.save('saved_models/model_noise50_trained_on_scale_5.0')"
   ]
  },
  {
   "cell_type": "code",
   "execution_count": 8,
   "metadata": {},
   "outputs": [],
   "source": [
    "loaded_model_noise50 = MySimpleClassifier((224, 224, 3), 20, 8)\n",
    "loaded_model_noise50.load('saved_models/model_noise50_trained_on_scale_5.0')"
   ]
  },
  {
   "cell_type": "code",
   "execution_count": 10,
   "metadata": {},
   "outputs": [
    {
     "data": {
      "application/vnd.jupyter.widget-view+json": {
       "model_id": "a3bd17ce984b45dbb3bcbe021162fb51",
       "version_major": 2,
       "version_minor": 0
      },
      "text/plain": [
       "  0%|          | 0/95 [00:00<?, ?it/s]"
      ]
     },
     "metadata": {},
     "output_type": "display_data"
    }
   ],
   "source": [
    "npz_folder = 'npz_tests_noise50'\n",
    "\n",
    "accuraces = []\n",
    "\n",
    "for root, dirs, files in os.walk(Path(FOLDER) / Path(npz_folder)):\n",
    "    pbar = tqdm(total=len(files))\n",
    "    for filename in files:\n",
    "        dtest = Dataset(npz_folder + '\\\\' + filename)\n",
    "        pred = loaded_model_noise50.test_on_dataset(dtest)\n",
    "        accuraces.append(Metrics.accuracy(dtest.labels, pred))\n",
    "        pbar.update(1)"
   ]
  },
  {
   "cell_type": "code",
   "execution_count": 13,
   "metadata": {},
   "outputs": [
    {
     "data": {
      "image/png": "[encoded data removed]",
      "text/plain": [
       "<Figure size 432x288 with 1 Axes>"
      ]
     },
     "metadata": {
      "needs_background": "light"
     },
     "output_type": "display_data"
    }
   ],
   "source": [
    "xpoints = np.arange(0.5, 10.0, 0.1)\n",
    "ypoints = np.array(accuraces)\n",
    "# print(xpoints.shape, ypoints.shape)\n",
    "plt.plot(xpoints, ypoints)\n",
    "plt.xlabel('scale')\n",
    "plt.ylabel('accuracy')\n",
    "plt.show()"
   ]
  },
  {
   "cell_type": "code",
   "execution_count": 16,
   "metadata": {},
   "outputs": [
    {
     "name": "stdout",
     "output_type": "stream",
     "text": [
      "training started\n",
      "Train on 4000 samples, validate on 800 samples\n",
      "Epoch 1/7\n",
      "4000/4000 [==============================] - 16s 4ms/sample - loss: 1.8129 - accuracy: 0.5512 - val_loss: 8.9557 - val_accuracy: 0.0550\n",
      "Epoch 2/7\n",
      "4000/4000 [==============================] - 14s 4ms/sample - loss: 0.8482 - accuracy: 0.8938 - val_loss: 1.6164 - val_accuracy: 0.4125\n",
      "Epoch 3/7\n",
      "4000/4000 [==============================] - 14s 4ms/sample - loss: 0.4334 - accuracy: 0.9778 - val_loss: 0.3669 - val_accuracy: 1.0000\n",
      "Epoch 4/7\n",
      "4000/4000 [==============================] - 14s 4ms/sample - loss: 0.2345 - accuracy: 0.9950 - val_loss: 0.2499 - val_accuracy: 0.9588\n",
      "Epoch 5/7\n",
      "4000/4000 [==============================] - 14s 4ms/sample - loss: 0.1545 - accuracy: 0.9945 - val_loss: 0.0941 - val_accuracy: 0.9912\n",
      "Epoch 6/7\n",
      "4000/4000 [==============================] - 14s 4ms/sample - loss: 0.1010 - accuracy: 0.9962 - val_loss: 0.0370 - val_accuracy: 1.0000\n",
      "Epoch 7/7\n",
      "4000/4000 [==============================] - 14s 4ms/sample - loss: 0.0737 - accuracy: 0.9973 - val_loss: 0.0251 - val_accuracy: 1.0000\n",
      "training done\n"
     ]
    }
   ],
   "source": [
    "light_model_noise50 = MySimpleClassifier((224, 224, 3), 20, 4)\n",
    "light_model_noise50.train(d_train_noise50, val_images, val_gt_vectors)\n",
    "light_model_noise50.save('saved_models/light_model_noise50_trained_on_scale_5.0')"
   ]
  },
  {
   "cell_type": "code",
   "execution_count": 17,
   "metadata": {},
   "outputs": [
    {
     "data": {
      "application/vnd.jupyter.widget-view+json": {
       "model_id": "a7c80aea683946288d41dff70c570a81",
       "version_major": 2,
       "version_minor": 0
      },
      "text/plain": [
       "  0%|          | 0/95 [00:00<?, ?it/s]"
      ]
     },
     "metadata": {},
     "output_type": "display_data"
    }
   ],
   "source": [
    "npz_folder = 'npz_tests_noise50'\n",
    "\n",
    "accuraces = []\n",
    "loaded_light_model_noise50 = MySimpleClassifier((224, 224, 3), 20, 4)\n",
    "loaded_light_model_noise50.load('saved_models/light_model_noise50_trained_on_scale_5.0')\n",
    "\n",
    "for root, dirs, files in os.walk(Path(FOLDER) / Path(npz_folder)):\n",
    "    pbar = tqdm(total=len(files))\n",
    "    for filename in files:\n",
    "        dtest = Dataset(npz_folder + '\\\\' + filename)\n",
    "        pred = loaded_light_model_noise50.test_on_dataset(dtest)\n",
    "        accuraces.append(Metrics.accuracy(dtest.labels, pred))\n",
    "        pbar.update(1)"
   ]
  },
  {
   "cell_type": "code",
   "execution_count": 18,
   "metadata": {},
   "outputs": [
    {
     "data": {
      "image/png": "[encoded data removed]",
      "text/plain": [
       "<Figure size 432x288 with 1 Axes>"
      ]
     },
     "metadata": {
      "needs_background": "light"
     },
     "output_type": "display_data"
    }
   ],
   "source": [
    "xpoints = np.arange(0.5, 10.0, 0.1)\n",
    "ypoints = np.array(accuraces)\n",
    "# print(xpoints.shape, ypoints.shape)\n",
    "plt.plot(xpoints, ypoints)\n",
    "plt.xlabel('scale')\n",
    "plt.ylabel('accuracy')\n",
    "plt.show()"
   ]
  },
  {
   "cell_type": "code",
   "execution_count": 19,
   "metadata": {},
   "outputs": [],
   "source": [
    "d_train_noise100 = Dataset('npz_train_noise100/5.0.npz')\n",
    "val_images, val_gt_vectors = d_train_noise100.random_batch_with_gt_vectors(int(d_train_noise100.n_files * 0.2))"
   ]
  },
  {
   "cell_type": "code",
   "execution_count": 20,
   "metadata": {},
   "outputs": [
    {
     "name": "stdout",
     "output_type": "stream",
     "text": [
      "training started\n",
      "Train on 4000 samples, validate on 800 samples\n",
      "Epoch 1/7\n",
      "4000/4000 [==============================] - 25s 6ms/sample - loss: 1.1688 - accuracy: 0.7025 - val_loss: 2.4000 - val_accuracy: 0.2800\n",
      "Epoch 2/7\n",
      "4000/4000 [==============================] - 23s 6ms/sample - loss: 0.2867 - accuracy: 0.9653 - val_loss: 0.4279 - val_accuracy: 0.8813\n",
      "Epoch 3/7\n",
      "4000/4000 [==============================] - 23s 6ms/sample - loss: 0.0960 - accuracy: 0.9962 - val_loss: 0.0284 - val_accuracy: 1.0000\n",
      "Epoch 4/7\n",
      "4000/4000 [==============================] - 23s 6ms/sample - loss: 0.0494 - accuracy: 0.9975 - val_loss: 0.0742 - val_accuracy: 0.9837\n",
      "Epoch 5/7\n",
      "4000/4000 [==============================] - 23s 6ms/sample - loss: 0.0333 - accuracy: 0.9970 - val_loss: 0.0079 - val_accuracy: 1.0000\n",
      "Epoch 6/7\n",
      "4000/4000 [==============================] - 23s 6ms/sample - loss: 0.0191 - accuracy: 0.9998 - val_loss: 0.0072 - val_accuracy: 1.0000\n",
      "Epoch 7/7\n",
      "4000/4000 [==============================] - 23s 6ms/sample - loss: 0.0170 - accuracy: 0.9995 - val_loss: 0.0051 - val_accuracy: 1.0000\n",
      "training done\n"
     ]
    }
   ],
   "source": [
    "model_noise100 = MySimpleClassifier((224, 224, 3), 20, 8)\n",
    "model_noise100.train(d_train_noise100, val_images, val_gt_vectors)\n",
    "model_noise100.save('saved_models/model_noise100_trained_on_scale_5.0')"
   ]
  },
  {
   "cell_type": "code",
   "execution_count": 21,
   "metadata": {},
   "outputs": [
    {
     "data": {
      "application/vnd.jupyter.widget-view+json": {
       "model_id": "fa93c5ef282b4765aeb20f6566e5ddbf",
       "version_major": 2,
       "version_minor": 0
      },
      "text/plain": [
       "  0%|          | 0/95 [00:00<?, ?it/s]"
      ]
     },
     "metadata": {},
     "output_type": "display_data"
    }
   ],
   "source": [
    "npz_folder = 'npz_tests_noise100'\n",
    "\n",
    "accuraces = []\n",
    "loaded_model_noise100 = MySimpleClassifier((224, 224, 3), 20, 8)\n",
    "loaded_model_noise100.load('saved_models/model_noise100_trained_on_scale_5.0')\n",
    "\n",
    "for root, dirs, files in os.walk(Path(FOLDER) / Path(npz_folder)):\n",
    "    pbar = tqdm(total=len(files))\n",
    "    for filename in files:\n",
    "        dtest = Dataset(npz_folder + '\\\\' + filename)\n",
    "        pred = loaded_model_noise100.test_on_dataset(dtest)\n",
    "        accuraces.append(Metrics.accuracy(dtest.labels, pred))\n",
    "        pbar.update(1)"
   ]
  },
  {
   "cell_type": "code",
   "execution_count": 22,
   "metadata": {},
   "outputs": [
    {
     "data": {
      "image/png": "[encoded data removed]",
      "text/plain": [
       "<Figure size 432x288 with 1 Axes>"
      ]
     },
     "metadata": {
      "needs_background": "light"
     },
     "output_type": "display_data"
    }
   ],
   "source": [
    "xpoints = np.arange(0.5, 10.0, 0.1)\n",
    "ypoints = np.array(accuraces)\n",
    "# print(xpoints.shape, ypoints.shape)\n",
    "plt.plot(xpoints, ypoints)\n",
    "plt.xlabel('scale')\n",
    "plt.ylabel('accuracy')\n",
    "plt.show()"
   ]
  },
  {
   "cell_type": "code",
   "execution_count": 23,
   "metadata": {},
   "outputs": [
    {
     "name": "stdout",
     "output_type": "stream",
     "text": [
      "training started\n",
      "Train on 4000 samples, validate on 800 samples\n",
      "Epoch 1/7\n",
      "4000/4000 [==============================] - 17s 4ms/sample - loss: 1.8287 - accuracy: 0.5115 - val_loss: 2.8396 - val_accuracy: 0.1262\n",
      "Epoch 2/7\n",
      "4000/4000 [==============================] - 14s 4ms/sample - loss: 0.8895 - accuracy: 0.8115 - val_loss: 1.3709 - val_accuracy: 0.4825\n",
      "Epoch 3/7\n",
      "4000/4000 [==============================] - 14s 4ms/sample - loss: 0.5095 - accuracy: 0.9068 - val_loss: 0.4084 - val_accuracy: 0.9050\n",
      "Epoch 4/7\n",
      "4000/4000 [==============================] - 14s 4ms/sample - loss: 0.3427 - accuracy: 0.9273 - val_loss: 0.2036 - val_accuracy: 1.0000\n",
      "Epoch 5/7\n",
      "4000/4000 [==============================] - 15s 4ms/sample - loss: 0.2227 - accuracy: 0.9745 - val_loss: 0.3171 - val_accuracy: 0.9375\n",
      "Epoch 6/7\n",
      "4000/4000 [==============================] - 14s 4ms/sample - loss: 0.1450 - accuracy: 0.9860 - val_loss: 0.1594 - val_accuracy: 0.9513\n",
      "Epoch 7/7\n",
      "4000/4000 [==============================] - 14s 4ms/sample - loss: 0.0855 - accuracy: 0.9945 - val_loss: 0.0428 - val_accuracy: 1.0000\n",
      "training done\n"
     ]
    }
   ],
   "source": [
    "light_model_noise100 = MySimpleClassifier((224, 224, 3), 20, 4)\n",
    "light_model_noise100.train(d_train_noise100, val_images, val_gt_vectors)\n",
    "light_model_noise100.save('saved_models/light_model_noise100_trained_on_scale_5.0')"
   ]
  },
  {
   "cell_type": "code",
   "execution_count": 24,
   "metadata": {},
   "outputs": [
    {
     "data": {
      "application/vnd.jupyter.widget-view+json": {
       "model_id": "567e86d01e5f49a5a973287dc82b44a2",
       "version_major": 2,
       "version_minor": 0
      },
      "text/plain": [
       "  0%|          | 0/95 [00:00<?, ?it/s]"
      ]
     },
     "metadata": {},
     "output_type": "display_data"
    }
   ],
   "source": [
    "npz_folder = 'npz_tests_noise100'\n",
    "\n",
    "accuraces = []\n",
    "loaded_light_model_noise100 = MySimpleClassifier((224, 224, 3), 20, 4)\n",
    "loaded_light_model_noise100.load('saved_models/light_model_noise100_trained_on_scale_5.0')\n",
    "\n",
    "for root, dirs, files in os.walk(Path(FOLDER) / Path(npz_folder)):\n",
    "    pbar =tqdm(total=len(files))\n",
    "    for filename in files:\n",
    "        dtest = Dataset(npz_folder + '\\\\' + filename)\n",
    "        pred = loaded_light_model_noise100.test_on_dataset(dtest)\n",
    "        accuraces.append(Metrics.accuracy(dtest.labels, pred))\n",
    "        pbar.update(1)"
   ]
  },
  {
   "cell_type": "code",
   "execution_count": 25,
   "metadata": {},
   "outputs": [
    {
     "data": {
      "image/png": "[encoded data removed]",
      "text/plain": [
       "<Figure size 432x288 with 1 Axes>"
      ]
     },
     "metadata": {
      "needs_background": "light"
     },
     "output_type": "display_data"
    }
   ],
   "source": [
    "xpoints = np.arange(0.5, 10.0, 0.1)\n",
    "ypoints = np.array(accuraces)\n",
    "# print(xpoints.shape, ypoints.shape)\n",
    "plt.plot(xpoints, ypoints)\n",
    "plt.xlabel('scale')\n",
    "plt.ylabel('aacuracy')\n",
    "plt.show()"
   ]
  },
  {
   "cell_type": "code",
   "execution_count": null,
   "metadata": {},
   "outputs": [],
   "source": []
  }
 ],
 "metadata": {
  "interpreter": {
   "hash": "96d434535d7b6aecef77a5346df38d1914465f326c492190ddc0b6f24f65af0d"
  },
  "kernelspec": {
   "display_name": "Python 3.7.11 64-bit ('diploma': conda)",
   "name": "python3"
  },
  "language_info": {
   "codemirror_mode": {
    "name": "ipython",
    "version": 3
   },
   "file_extension": ".py",
   "mimetype": "text/x-python",
   "name": "python",
   "nbconvert_exporter": "python",
   "pygments_lexer": "ipython3",
   "version": "3.7.11"
  }
 },
 "nbformat": 4,
 "nbformat_minor": 4
}
